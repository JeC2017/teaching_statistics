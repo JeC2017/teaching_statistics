{
  "nbformat": 4,
  "nbformat_minor": 0,
  "metadata": {
    "colab": {
      "provenance": []
    },
    "kernelspec": {
      "name": "ir",
      "display_name": "R"
    },
    "language_info": {
      "name": "R"
    }
  },
  "cells": [
    {
      "cell_type": "markdown",
      "source": [
        "# 専修大学経済学部「統計学1」レジュメ，1次元のデ一タ\n",
        "\n",
        "実証例などで使用する Asai, Kambayashi, Yamaguchi（2015）データ：`childcare`\n",
        "\n",
        "- Asai, Kambayashi, Yamaguchi（2015), “Childcare availability, household structure, and maternal employment,” *Journal of the Japanese and International Economies*.\n",
        "\n",
        "**データの変数名定義**\n",
        "\n",
        "`pref`: 都道府県 (prefecture)\n",
        "\n",
        "`year`: 年 (year)\n",
        "\n",
        "`emp.rate`: 母親就業率 (maternal employment rate)\n",
        "\n",
        "`cap.rate`: 保育所定員率 (capacity/child-population)\n",
        "\n",
        "`age`: 母親平均年齢 (mothers' average age)\n",
        "\n",
        "`age.hus`: 父親平均年齢 (fathers' average age)\n",
        "\n",
        "`emp.rate.hus`: 父親就業率 (paternal employment rate)\n",
        "\n",
        "`urate`: 失業率 (local unemployment rate)\n",
        "\n",
        "`nuc.rate`: 核家族世帯率 (fraction of nuclear households)\n",
        "\n",
        "`numhh`: 世帯数 (number of households)\n",
        "\n",
        "`hh.type`: 世帯の種類 type of household (\"all\" = all types, \"nuc\" = nuclear, \"3ge\" = 3-generation)"
      ],
      "metadata": {
        "id": "jLigj3Cctl_0"
      }
    },
    {
      "cell_type": "code",
      "source": [
        "# R環境内に存在するすべてのオブジェクトを削除します。\n",
        "# これにより、作業空間がクリアされ、新たな分析を始める際に他のオブジェクトによる干渉を避けることができます。\n",
        "rm(list = ls())\n",
        "\n",
        "# パッケージの読み込みとデータ読み込み\n",
        "library(tidyverse)\n",
        "url <- \"https://raw.githubusercontent.com/JeC2017/public_data/main/childcare.csv\"\n",
        "childcare <- read.csv(url, header=TRUE)\n",
        "\n",
        "# データの最初の数行を表示\n",
        "head(childcare)"
      ],
      "metadata": {
        "colab": {
          "base_uri": "https://localhost:8080/",
          "height": 286
        },
        "id": "4mYDA3kit1E-",
        "outputId": "81208ca9-694c-4aa4-e4d6-d2dfdda0df8a"
      },
      "execution_count": null,
      "outputs": [
        {
          "output_type": "display_data",
          "data": {
            "text/html": [
              "<table class=\"dataframe\">\n",
              "<caption>A data.frame: 6 × 11</caption>\n",
              "<thead>\n",
              "\t<tr><th></th><th scope=col>pref</th><th scope=col>year</th><th scope=col>emp.rate</th><th scope=col>cap.rate</th><th scope=col>age</th><th scope=col>age.hus</th><th scope=col>emp.rate.hus</th><th scope=col>urate</th><th scope=col>nuc.rate</th><th scope=col>numhh</th><th scope=col>hh.type</th></tr>\n",
              "\t<tr><th></th><th scope=col>&lt;chr&gt;</th><th scope=col>&lt;int&gt;</th><th scope=col>&lt;dbl&gt;</th><th scope=col>&lt;dbl&gt;</th><th scope=col>&lt;dbl&gt;</th><th scope=col>&lt;dbl&gt;</th><th scope=col>&lt;dbl&gt;</th><th scope=col>&lt;dbl&gt;</th><th scope=col>&lt;dbl&gt;</th><th scope=col>&lt;int&gt;</th><th scope=col>&lt;chr&gt;</th></tr>\n",
              "</thead>\n",
              "<tbody>\n",
              "\t<tr><th scope=row>1</th><td>北海道</td><td>1990</td><td>0.2701991</td><td>0.1875791</td><td>31.64818</td><td>34.17721</td><td>0.9895076</td><td>0.03622666</td><td>0.8240965</td><td>250086</td><td>all</td></tr>\n",
              "\t<tr><th scope=row>2</th><td>青森県</td><td>1990</td><td>0.4507844</td><td>0.3631905</td><td>31.40027</td><td>34.24343</td><td>0.9820385</td><td>0.04486930</td><td>0.5649628</td><td> 68647</td><td>all</td></tr>\n",
              "\t<tr><th scope=row>3</th><td>岩手県</td><td>1990</td><td>0.5267243</td><td>0.2618665</td><td>31.54298</td><td>34.25208</td><td>0.9900675</td><td>0.02627886</td><td>0.4966100</td><td> 63126</td><td>all</td></tr>\n",
              "\t<tr><th scope=row>4</th><td>宮城県</td><td>1990</td><td>0.4206343</td><td>0.1327991</td><td>31.50385</td><td>34.19711</td><td>0.9902523</td><td>0.02730289</td><td>0.5790675</td><td>107307</td><td>all</td></tr>\n",
              "\t<tr><th scope=row>5</th><td>秋田県</td><td>1990</td><td>0.5473229</td><td>0.2682563</td><td>31.46496</td><td>34.20592</td><td>0.9918102</td><td>0.02717173</td><td>0.4144711</td><td> 51772</td><td>all</td></tr>\n",
              "\t<tr><th scope=row>6</th><td>山形県</td><td>1990</td><td>0.6777410</td><td>0.2228247</td><td>31.45862</td><td>34.23097</td><td>0.9949089</td><td>0.01745351</td><td>0.3202995</td><td> 57159</td><td>all</td></tr>\n",
              "</tbody>\n",
              "</table>\n"
            ],
            "text/markdown": "\nA data.frame: 6 × 11\n\n| <!--/--> | pref &lt;chr&gt; | year &lt;int&gt; | emp.rate &lt;dbl&gt; | cap.rate &lt;dbl&gt; | age &lt;dbl&gt; | age.hus &lt;dbl&gt; | emp.rate.hus &lt;dbl&gt; | urate &lt;dbl&gt; | nuc.rate &lt;dbl&gt; | numhh &lt;int&gt; | hh.type &lt;chr&gt; |\n|---|---|---|---|---|---|---|---|---|---|---|---|\n| 1 | 北海道 | 1990 | 0.2701991 | 0.1875791 | 31.64818 | 34.17721 | 0.9895076 | 0.03622666 | 0.8240965 | 250086 | all |\n| 2 | 青森県 | 1990 | 0.4507844 | 0.3631905 | 31.40027 | 34.24343 | 0.9820385 | 0.04486930 | 0.5649628 |  68647 | all |\n| 3 | 岩手県 | 1990 | 0.5267243 | 0.2618665 | 31.54298 | 34.25208 | 0.9900675 | 0.02627886 | 0.4966100 |  63126 | all |\n| 4 | 宮城県 | 1990 | 0.4206343 | 0.1327991 | 31.50385 | 34.19711 | 0.9902523 | 0.02730289 | 0.5790675 | 107307 | all |\n| 5 | 秋田県 | 1990 | 0.5473229 | 0.2682563 | 31.46496 | 34.20592 | 0.9918102 | 0.02717173 | 0.4144711 |  51772 | all |\n| 6 | 山形県 | 1990 | 0.6777410 | 0.2228247 | 31.45862 | 34.23097 | 0.9949089 | 0.01745351 | 0.3202995 |  57159 | all |\n\n",
            "text/latex": "A data.frame: 6 × 11\n\\begin{tabular}{r|lllllllllll}\n  & pref & year & emp.rate & cap.rate & age & age.hus & emp.rate.hus & urate & nuc.rate & numhh & hh.type\\\\\n  & <chr> & <int> & <dbl> & <dbl> & <dbl> & <dbl> & <dbl> & <dbl> & <dbl> & <int> & <chr>\\\\\n\\hline\n\t1 & 北海道 & 1990 & 0.2701991 & 0.1875791 & 31.64818 & 34.17721 & 0.9895076 & 0.03622666 & 0.8240965 & 250086 & all\\\\\n\t2 & 青森県 & 1990 & 0.4507844 & 0.3631905 & 31.40027 & 34.24343 & 0.9820385 & 0.04486930 & 0.5649628 &  68647 & all\\\\\n\t3 & 岩手県 & 1990 & 0.5267243 & 0.2618665 & 31.54298 & 34.25208 & 0.9900675 & 0.02627886 & 0.4966100 &  63126 & all\\\\\n\t4 & 宮城県 & 1990 & 0.4206343 & 0.1327991 & 31.50385 & 34.19711 & 0.9902523 & 0.02730289 & 0.5790675 & 107307 & all\\\\\n\t5 & 秋田県 & 1990 & 0.5473229 & 0.2682563 & 31.46496 & 34.20592 & 0.9918102 & 0.02717173 & 0.4144711 &  51772 & all\\\\\n\t6 & 山形県 & 1990 & 0.6777410 & 0.2228247 & 31.45862 & 34.23097 & 0.9949089 & 0.01745351 & 0.3202995 &  57159 & all\\\\\n\\end{tabular}\n",
            "text/plain": [
              "  pref   year emp.rate  cap.rate  age      age.hus  emp.rate.hus urate     \n",
              "1 北海道 1990 0.2701991 0.1875791 31.64818 34.17721 0.9895076    0.03622666\n",
              "2 青森県 1990 0.4507844 0.3631905 31.40027 34.24343 0.9820385    0.04486930\n",
              "3 岩手県 1990 0.5267243 0.2618665 31.54298 34.25208 0.9900675    0.02627886\n",
              "4 宮城県 1990 0.4206343 0.1327991 31.50385 34.19711 0.9902523    0.02730289\n",
              "5 秋田県 1990 0.5473229 0.2682563 31.46496 34.20592 0.9918102    0.02717173\n",
              "6 山形県 1990 0.6777410 0.2228247 31.45862 34.23097 0.9949089    0.01745351\n",
              "  nuc.rate  numhh  hh.type\n",
              "1 0.8240965 250086 all    \n",
              "2 0.5649628  68647 all    \n",
              "3 0.4966100  63126 all    \n",
              "4 0.5790675 107307 all    \n",
              "5 0.4144711  51772 all    \n",
              "6 0.3202995  57159 all    "
            ]
          },
          "metadata": {}
        }
      ]
    },
    {
      "cell_type": "code",
      "source": [
        "# 下記の行では、childcare というデータフレームから、\n",
        "# year 列が 1990 であり、かつ hh.type 列が \"all\" であるサブセットを抽出しています。\n",
        "# この処理は tidyverse パッケージのパイプ演算子 (%>%) を用いて行われており、\n",
        "# 条件に一致するデータのみを新たなデータフレーム\n",
        "# childcare_hh_all_1990 に保存しています。\n",
        "\n",
        "childcare_hh_all_1990 <- childcare %>%\n",
        "  subset(subset = (year == 1990) & (hh.type == \"all\"))\n",
        "\n",
        "# 次は、str() 関数を使用して、\n",
        "# 新しく作成されたデータフレーム childcare_hh_all_1990 の構造を表示します。\n",
        "# この関数はデータフレームの列名、列のタイプ、\n",
        "# および先頭のいくつかのデータを表示することにより、データの概要を提供します。\n",
        "# これにより、データの型や含まれる主要な情報、列の概略を把握することができます。\n",
        "\n",
        "str(childcare_hh_all_1990)"
      ],
      "metadata": {
        "colab": {
          "base_uri": "https://localhost:8080/"
        },
        "id": "E24-W77YvAng",
        "outputId": "eedf0dde-38e2-4737-9821-027a5093550c"
      },
      "execution_count": null,
      "outputs": [
        {
          "output_type": "stream",
          "name": "stdout",
          "text": [
            "'data.frame':\t47 obs. of  11 variables:\n",
            " $ pref        : chr  \"北海道\" \"青森県\" \"岩手県\" \"宮城県\" ...\n",
            " $ year        : int  1990 1990 1990 1990 1990 1990 1990 1990 1990 1990 ...\n",
            " $ emp.rate    : num  0.27 0.451 0.527 0.421 0.547 ...\n",
            " $ cap.rate    : num  0.188 0.363 0.262 0.133 0.268 ...\n",
            " $ age         : num  31.6 31.4 31.5 31.5 31.5 ...\n",
            " $ age.hus     : num  34.2 34.2 34.3 34.2 34.2 ...\n",
            " $ emp.rate.hus: num  0.99 0.982 0.99 0.99 0.992 ...\n",
            " $ urate       : num  0.0362 0.0449 0.0263 0.0273 0.0272 ...\n",
            " $ nuc.rate    : num  0.824 0.565 0.497 0.579 0.414 ...\n",
            " $ numhh       : int  250086 68647 63126 107307 51772 57159 101753 134651 92983 89503 ...\n",
            " $ hh.type     : chr  \"all\" \"all\" \"all\" \"all\" ...\n"
          ]
        }
      ]
    },
    {
      "cell_type": "code",
      "source": [
        "# 以下は、Rプログラムの各行が実行している処理について、説明します。\n",
        "\n",
        "emp.rate <- childcare_hh_all_1990$emp.rate\n",
        "\n",
        "# childcare_hh_all_1990 というデータフレームから emp.rate という列を抽出し、\n",
        "# 新たなベクトル変数 emp.rate に代入しています。\n",
        "# これにより、emp.rate 列のデータを単独で操作や分析が容易になります。\n",
        "\n",
        "hist(emp.rate)\n",
        "\n",
        "# 先に抽出した emp.rate データのヒストグラムを作成します。\n",
        "# hist() 関数はデータの分布を視覚化するのに使われ、\n",
        "# 自動的に適切なビン数でデータをビンに分け、\n",
        "# その頻度に基づいたヒストグラムを表示します。\n",
        "\n",
        "rug(emp.rate)\n",
        "\n",
        "# rug() 関数はヒストグラムまたは他のプロットの下部に「ラグプロット」を追加します。\n",
        "# これは、データポイントの実際の位置を小さな線（タッセル）で示すもので、\n",
        "# データの分布密度を直感的に理解するのに役立ちます。\n",
        "# emp.rate の各データポイントがどのように分布しているかを細かく示すことができます。"
      ],
      "metadata": {
        "colab": {
          "base_uri": "https://localhost:8080/",
          "height": 437
        },
        "id": "jP5ewINb4MX3",
        "outputId": "16430284-499d-4ada-fc2b-4ab75af4b986"
      },
      "execution_count": null,
      "outputs": [
        {
          "output_type": "display_data",
          "data": {
            "text/plain": [
              "Plot with title “Histogram of emp.rate”"
            ],
            "image/png": "[encoded data removed]"
          },
          "metadata": {
            "image/png": {
              "width": 420,
              "height": 420
            }
          }
        }
      ]
    },
    {
      "cell_type": "code",
      "source": [
        "# 相対頻度（%）ヒストグラム\n",
        "\n",
        "ggplot(childcare_hh_all_1990, aes(x = emp.rate)) +\n",
        "  geom_histogram(aes(y = after_stat(count / sum(count) * 100)), binwidth = 0.05, colour = \"black\", fill = \"white\") +\n",
        "  geom_rug(alpha = 0.5) +\n",
        "  ylab(\"Relative Frequency (%)\") +\n",
        "  xlab(\"emp.rate\") +\n",
        "  ggtitle(\"Histogram of emp.rate with Relative Frequency\")\n",
        "\n",
        "# ggplot()：基本となるプロットオブジェクトを作成します。\n",
        "# ここで、データセット childcare_hh_all_1990 と x 軸に使用する変数 emp.rate を指定します。\n",
        "# geom_histogram()：ヒストグラムを描画します。\n",
        "# aes() 内で y = after_stat(count / sum(count) * 100) を使用して、\n",
        "# y 軸に表示するのは各ビンの相対頻度（%）です。\n",
        "# binwidth = 0.05 はビンの幅を指定し、\n",
        "# colour = \"black\"、fill = \"white\" でビンの境界線の色と塗りつぶしの色を設定します。\n",
        "# geom_rug()：rug プロットを追加し、\n",
        "# 個々のデータポイントの位置を x 軸に沿って小さなマークで表示します。\n",
        "# alpha = 0.5 は透明度を設定し、プロットの見栄えを良くします。\n",
        "# ylab() と xlab()：軸のラベルを設定します。\n",
        "# ggtitle()：グラフのタイトルを設定します。"
      ],
      "metadata": {
        "colab": {
          "base_uri": "https://localhost:8080/",
          "height": 437
        },
        "id": "GW9Oyw8WZ1MC",
        "outputId": "bc413a35-bfe8-48e1-a02a-66947f41cacb"
      },
      "execution_count": null,
      "outputs": [
        {
          "output_type": "display_data",
          "data": {
            "text/plain": [
              "plot without title"
            ],
            "image/png": "[encoded data removed]"
          },
          "metadata": {
            "image/png": {
              "width": 420,
              "height": 420
            }
          }
        }
      ]
    },
    {
      "cell_type": "code",
      "source": [
        "# ボックスプロットを作成し、データの四分位数、中央値、外れ値を表示します。\n",
        "boxplot(emp.rate)"
      ],
      "metadata": {
        "id": "AWV0_pK37QKe",
        "colab": {
          "base_uri": "https://localhost:8080/",
          "height": 437
        },
        "outputId": "64ba9a34-71ad-4f44-9bad-39d46cde0a41"
      },
      "execution_count": null,
      "outputs": [
        {
          "output_type": "display_data",
          "data": {
            "text/plain": [
              "plot without title"
            ],
            "image/png": "[encoded data removed]"
          },
          "metadata": {
            "image/png": {
              "width": 420,
              "height": 420
            }
          }
        }
      ]
    },
    {
      "cell_type": "markdown",
      "source": [
        "# 標本特性値\n",
        "\n",
        "ここでは、デ一タを $\\{x_1, x_2, \\cdots, x_n \\}$ とします (サンプルサイズは $n$)。**中心を表す特性値**には、**平均**、**中央値**があります。\n",
        "\n",
        "## 平均\n",
        "\n",
        "平均は総和 (全てのデ一タの合計値) をサンプルサイズ $n$ で割ったもので、以下のように定義されます。\n",
        "\n",
        "<br>\n",
        "**平均 (mean)**\n",
        "$$\n",
        "\\overline{x} = \\frac{1}{n}\\sum_{i=1}^n x_i\n",
        "$$\n",
        "\n",
        "<br>\n",
        "平均は平易に求められるので広範に用いられていますが、外れ値 (outlier) の影響を受けやすいという欠点があります。外れ値とは、他のデ一タに比べて、とくに大きすぎたり小さすぎたりする値です。\n",
        "\n",
        "<br>\n",
        "\n",
        "**例** フリレンのチ一ムの平均年齢\n",
        "\n",
        "<img src=\"https://drive.google.com/uc?export=view&id=1HhRfKCsieh33IhisCRU4OfXQ8ODCq086\" style=\"width: 70%;\" alt=\"Frieren\" title=\"Frieren\">\n",
        "\n",
        "<br>\n",
        "\n",
        "$$\n",
        "\\{x_1, x_2, x_3, x_4\\}=\\{18, 18, 1000, 18 \\}\n",
        "$$\n",
        "\n",
        "<br>\n",
        "\n",
        "$$\n",
        "\\overline{x} = \\frac{1}{n}\\sum_{i=1}^n x_i = \\frac{18+18+1000+18}{4}=263.5\n",
        "$$\n",
        "\n",
        "<br>\n",
        "\n",
        "## 中央値\n",
        "\n",
        "外れ値の問題を解決する指標として中央値があります。中央値とは、デ一タを小さい順 (昇値) に並べたとき、ちょうど中央に位置する値です。まず、デ一タを小さい順に並べ直します $( x_{(1)} \\leq x_{(2)} \\leq \\cdots \\leq x_{(n)})$。ここで、$x_{(i)}$ は $i$ 番目に小さい値です。中央値は以下のように定義されます。\n",
        "\n",
        "<br>\n",
        "\n",
        "**中央値 (median)**\n",
        "\n",
        "$$\n",
        "nが奇数なら: x_{((n+1)/2)} \\qquad nが偶数なら: \\frac{x_{(n/2)}+x_{(n/2+1)}}{2}\n",
        "$$\n",
        "\n",
        "<br>\n",
        "\n",
        "**例** フリレンのチ一ム\n",
        "\n",
        "<br>\n",
        "\n",
        "$$\n",
        "\\{x_1, x_2, x_3, x_4\\}=\\{18, 18, 1000, 18 \\}\n",
        "$$\n",
        "\n",
        "<br>\n",
        "\n",
        "デ一タを小さいほうから並べ替えると\n",
        "\n",
        "<br>\n",
        "\n",
        "$$\n",
        "\\{x_{(1)}, x_{(2)}, x_{(3)}, x_{(4)}\\}=\\{18, 18, 18, 1000 \\}\n",
        "$$\n",
        "\n",
        "<br>\n",
        "\n",
        "デ一タの個数が4個なので、中央値は2つ目と3つ目の平均\n",
        "\n",
        "$$\n",
        "\\frac{x_{(2)}+x_{(3)}}{2}=\\frac{18+18}{2}=18\n",
        "$$\n",
        "\n",
        "となります。"
      ],
      "metadata": {
        "id": "z6FGX9ScPb9z"
      }
    },
    {
      "cell_type": "code",
      "source": [
        "# 中央値\n",
        "print(\"中央値\")\n",
        "median(emp.rate)\n",
        "\n",
        "# 平均値\n",
        "print(\"平均値\")\n",
        "mean(emp.rate)\n",
        "\n",
        "# 分布が右に歪んでいるなら (skewed to the right),\n",
        "# 中央値 = 0.38 < 平均値 = 0.4"
      ],
      "metadata": {
        "colab": {
          "base_uri": "https://localhost:8080/",
          "height": 86
        },
        "id": "dtfmcIrdUkiz",
        "outputId": "01843f5f-eb0a-4503-ff0c-9077fa196fdc"
      },
      "execution_count": null,
      "outputs": [
        {
          "output_type": "stream",
          "name": "stdout",
          "text": [
            "[1] \"中央値\"\n"
          ]
        },
        {
          "output_type": "display_data",
          "data": {
            "text/html": [
              "0.3861687"
            ],
            "text/markdown": "0.3861687",
            "text/latex": "0.3861687",
            "text/plain": [
              "[1] 0.3861687"
            ]
          },
          "metadata": {}
        },
        {
          "output_type": "stream",
          "name": "stdout",
          "text": [
            "[1] \"平均値\"\n"
          ]
        },
        {
          "output_type": "display_data",
          "data": {
            "text/html": [
              "0.404590318148936"
            ],
            "text/markdown": "0.404590318148936",
            "text/latex": "0.404590318148936",
            "text/plain": [
              "[1] 0.4045903"
            ]
          },
          "metadata": {}
        }
      ]
    },
    {
      "cell_type": "markdown",
      "source": [
        "### 平均のうそ?  (Simpson's Paradox)\n",
        "\n",
        "**例** 以下は、（架空の）専修大学経済学部の二つの科目における男女別の履修者数とそれぞれの平均成績です。統計学または経済時事英語の授業では、女子大学生の方が成績が良い（平均成績が高く、それぞれ80点と70点です）。総合的なパフォーマンスを見ると、男子大学生の方が優れています（73点）。なぜこのようなことが起きたのでしょうか？\n",
        "\n",
        "<br>\n",
        "\n",
        "科目名  | 女性履修者数  | 女性平均成績 | 男性履修者数   | 男性平均成績\n",
        "----- | ----- | ----- | ----- | -----\n",
        "統計学        | 20 | **80** | 80 | 75        \n",
        "経済時事英語  | 80 | **70** | 20 | 65          \n",
        "計            | 100  | 72 | 100 | **73**        \n"
      ],
      "metadata": {
        "id": "jyQZtWLgni0P"
      }
    },
    {
      "cell_type": "markdown",
      "source": [
        "## 標本分散\n",
        "\n",
        "デ一タのばらつきを表す特性値を紹介します。標本分散は、次のように定義されます。\n",
        "\n",
        "<br>\n",
        "\n",
        "**標本分散 (sample variance)**\n",
        "\n",
        "$$\n",
        "s_x^2 = \\frac{1}{n-1} \\sum_{i=1}^n \\left(x_i - \\overline{x}\\right)^2\n",
        "$$\n",
        "\n",
        "<br>\n",
        "\n",
        "標本分散は偏差 (deviation) の2乘和を $n-1$ で除したものです。なお、除数をサンプルサイズ $n$ ではなく $n-1$ としている理由は不偏統計量といったテ一マで説明しますが、$n$ が大きければ $n$ で割っても $n-1$ で割っても数字に大きな差異はありませえん。とりあえず、この点はあまり気にしないで読み進めてください。\n",
        "\n",
        "\n",
        "<br>\n",
        "\n",
        "## 標本標準偏差\n",
        "\n",
        "偏差の2乘を計算すると、桁が大きくなってしまいます。桁数が変わると、デ一タのばらつきの直観がつかみ難くなります。したがって、デ一タの桁数に合わせるため、標本分散の平方根をとって桁を元に戻す必要があります。これが標準偏差です。\n",
        "\n",
        "<br>\n",
        "\n",
        "**標本標準偏差 (sample standard deviation)**\n",
        "\n",
        "$$\n",
        "s_x = \\sqrt{\\frac{1}{n-1} \\sum_{i=1}^n \\left(x_i - \\overline{x}\\right)^2}\n",
        "$$"
      ],
      "metadata": {
        "id": "gcW-qxuZhK6A"
      }
    },
    {
      "cell_type": "code",
      "source": [
        "# フリレン\n",
        "Frieren <- c(18, 18, 1000, 18)\n",
        "\n",
        "# 標本分散\n",
        "print(\"標本分散\")\n",
        "var(Frieren)\n",
        "\n",
        "# 標本標準偏差\n",
        "print(\"標本標準偏差\")\n",
        "sd(Frieren)"
      ],
      "metadata": {
        "colab": {
          "base_uri": "https://localhost:8080/",
          "height": 86
        },
        "id": "jkPHNWeqjYQD",
        "outputId": "e2264e94-ea55-4cbe-b382-f3fae915e27f"
      },
      "execution_count": null,
      "outputs": [
        {
          "output_type": "stream",
          "name": "stdout",
          "text": [
            "[1] \"標本分散\"\n"
          ]
        },
        {
          "output_type": "display_data",
          "data": {
            "text/html": [
              "241081"
            ],
            "text/markdown": "241081",
            "text/latex": "241081",
            "text/plain": [
              "[1] 241081"
            ]
          },
          "metadata": {}
        },
        {
          "output_type": "stream",
          "name": "stdout",
          "text": [
            "[1] \"標本標準偏差\"\n"
          ]
        },
        {
          "output_type": "display_data",
          "data": {
            "text/html": [
              "491"
            ],
            "text/markdown": "491",
            "text/latex": "491",
            "text/plain": [
              "[1] 491"
            ]
          },
          "metadata": {}
        }
      ]
    },
    {
      "cell_type": "code",
      "source": [
        "# emp.rate\n",
        "\n",
        "# 標本分散\n",
        "print(\"標本分散\")\n",
        "var(emp.rate)\n",
        "\n",
        "# 標本標準偏差\n",
        "print(\"標本標準偏差\")\n",
        "sd(emp.rate)"
      ],
      "metadata": {
        "colab": {
          "base_uri": "https://localhost:8080/",
          "height": 86
        },
        "id": "_-GLuFHOi4Ue",
        "outputId": "6183325d-1f56-40b8-9241-571f249c3831"
      },
      "execution_count": null,
      "outputs": [
        {
          "output_type": "stream",
          "name": "stdout",
          "text": [
            "[1] \"標本分散\"\n"
          ]
        },
        {
          "output_type": "display_data",
          "data": {
            "text/html": [
              "0.01269626592071"
            ],
            "text/markdown": "0.01269626592071",
            "text/latex": "0.01269626592071",
            "text/plain": [
              "[1] 0.01269627"
            ]
          },
          "metadata": {}
        },
        {
          "output_type": "stream",
          "name": "stdout",
          "text": [
            "[1] \"標本標準偏差\"\n"
          ]
        },
        {
          "output_type": "display_data",
          "data": {
            "text/html": [
              "0.112677708180057"
            ],
            "text/markdown": "0.112677708180057",
            "text/latex": "0.112677708180057",
            "text/plain": [
              "[1] 0.1126777"
            ]
          },
          "metadata": {}
        }
      ]
    },
    {
      "cell_type": "code",
      "source": [
        "# pastecs パッケージの stat.desc() 関数を使うとさらに多くの統計量の計算が可能です。\n",
        "# pastecs::stat.desc()\n",
        "\n",
        "# pastecs パッケージのインストール\n",
        "# install.packages(\"pastecs\")\n",
        "\n",
        "# pastecs パッケージを読み込む\n",
        "library(pastecs)\n",
        "\n",
        "# どのような統計量を計算するかを引数で変更することができます。\n",
        "# basic : 欠損値の数 (nbr.na) や最小値最大値など\n",
        "# desc : 中央値 (median)、平均値 (mean) やその標準偏差 (SE.mean) や\n",
        "# 95%信頼区間 (CI.mean.0.95) など\n",
        "# norm : 正規分布の統計量（歪度や尖度）と正規性の検定\n",
        "# p: 信頼区間の計算に使う確率水準\n",
        "\n",
        "result <- stat.desc(emp.rate, basic = T, desc = T, norm = T, p = 0.95 )\n",
        "print(result, digits=3)"
      ],
      "metadata": {
        "colab": {
          "base_uri": "https://localhost:8080/"
        },
        "id": "V_bzUwbrakwt",
        "outputId": "99ba4e38-bc33-4027-c484-0e2c9847f1a2"
      },
      "execution_count": null,
      "outputs": [
        {
          "output_type": "stream",
          "name": "stdout",
          "text": [
            "     nbr.val     nbr.null       nbr.na          min          max        range \n",
            "     47.0000       0.0000       0.0000       0.2109       0.6777       0.4669 \n",
            "         sum       median         mean      SE.mean CI.mean.0.95          var \n",
            "     19.0157       0.3862       0.4046       0.0164       0.0331       0.0127 \n",
            "     std.dev     coef.var     skewness     skew.2SE     kurtosis     kurt.2SE \n",
            "      0.1127       0.2785       0.3416       0.4929      -0.7583      -0.5569 \n",
            "  normtest.W   normtest.p \n",
            "      0.9685       0.2326 \n"
          ]
        }
      ]
    },
    {
      "cell_type": "markdown",
      "source": [
        "# 範囲と割合の関係 - 偏差値\n",
        "\n",
        "相対評価に用いられる偏差値の定義は\n",
        "\n",
        "<br>\n",
        "\n",
        "$$\n",
        "iさんの偏差値 = 50 + 10\\left(\\frac{x_i-\\overline{x}}{s_x} \\right)\n",
        "$$\n",
        "\n",
        "<br>\n",
        "\n",
        "で与えられます。たとえば、$i$ さんの点数 $x_i$ が平均点であれば、$x_i-\\overline{x}=0$ ですがら偏差値は50です。点数が平均をちょうど1標本標準偏差 $s_x$ だけ上回ると $(x_i=\\overline{x}+s_x)$、偏差値は60となり、点数が平均を1標本標準偏差 $s_x$ だけ下回ると $(x_i=\\overline{x}-s_x)$、偏差値は40となります。下記の経験則を用いると、偏差値が$40\\sim60$の間に全体の約$68\\%$、偏差値が$30\\sim70$の間に全体の約$95\\%$、偏差値が$20\\sim80$の間に全体の約$99\\sim100\\%$が入ります。\n",
        "\n",
        "<br>\n",
        "\n",
        "\n",
        "範囲          | 割合\n",
        "------------- | -------------\n",
        "$\\overline{x}\\pm s_x$   | $約68\\%$\n",
        "$\\overline{x}\\pm 2s_x$  | $約95\\%$\n",
        "$\\overline{x}\\pm 3s_x$  | $約99\\sim100\\%$\n",
        "この経験則は正規分布に関係しています。\n",
        "\n"
      ],
      "metadata": {
        "id": "gektg36Klgt1"
      }
    }
  ]
}