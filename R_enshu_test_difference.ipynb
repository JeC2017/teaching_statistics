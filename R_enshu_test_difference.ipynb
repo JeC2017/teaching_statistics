{
  "nbformat": 4,
  "nbformat_minor": 0,
  "metadata": {
    "colab": {
      "provenance": []
    },
    "kernelspec": {
      "name": "ir",
      "display_name": "R"
    },
    "language_info": {
      "name": "R"
    }
  },
  "cells": [
    {
      "cell_type": "code",
      "execution_count": 1,
      "metadata": {
        "colab": {
          "base_uri": "https://localhost:8080/"
        },
        "id": "6jxC2UpB02-M",
        "outputId": "9f26d811-890f-4dd5-8467-2c7fa5b71b39"
      },
      "outputs": [
        {
          "output_type": "stream",
          "name": "stderr",
          "text": [
            "── \u001b[1mAttaching core tidyverse packages\u001b[22m ──────────────────────── tidyverse 2.0.0 ──\n",
            "\u001b[32m✔\u001b[39m \u001b[34mdplyr    \u001b[39m 1.1.4     \u001b[32m✔\u001b[39m \u001b[34mreadr    \u001b[39m 2.1.5\n",
            "\u001b[32m✔\u001b[39m \u001b[34mforcats  \u001b[39m 1.0.0     \u001b[32m✔\u001b[39m \u001b[34mstringr  \u001b[39m 1.5.1\n",
            "\u001b[32m✔\u001b[39m \u001b[34mggplot2  \u001b[39m 3.5.1     \u001b[32m✔\u001b[39m \u001b[34mtibble   \u001b[39m 3.2.1\n",
            "\u001b[32m✔\u001b[39m \u001b[34mlubridate\u001b[39m 1.9.4     \u001b[32m✔\u001b[39m \u001b[34mtidyr    \u001b[39m 1.3.1\n",
            "\u001b[32m✔\u001b[39m \u001b[34mpurrr    \u001b[39m 1.0.2     \n",
            "── \u001b[1mConflicts\u001b[22m ────────────────────────────────────────── tidyverse_conflicts() ──\n",
            "\u001b[31m✖\u001b[39m \u001b[34mdplyr\u001b[39m::\u001b[32mfilter()\u001b[39m masks \u001b[34mstats\u001b[39m::filter()\n",
            "\u001b[31m✖\u001b[39m \u001b[34mdplyr\u001b[39m::\u001b[32mlag()\u001b[39m    masks \u001b[34mstats\u001b[39m::lag()\n",
            "\u001b[36mℹ\u001b[39m Use the conflicted package (\u001b[3m\u001b[34m<http://conflicted.r-lib.org/>\u001b[39m\u001b[23m) to force all conflicts to become errors\n"
          ]
        }
      ],
      "source": [
        "# 母平均の差の検定\n",
        "\n",
        "# 帰無仮説 H0 :\n",
        "# 2010年と1990年の保育所定員率に差はない?\n",
        "# つまり、diff の平均値は 0 ?\n",
        "\n",
        "# R環境内の既存オブジェクトをすべて削除\n",
        "rm(list = ls())\n",
        "\n",
        "url <- \"https://raw.githubusercontent.com/JeC2017/public_data/main/childcare.csv\"\n",
        "childcare <- read.csv(url, header=TRUE)\n",
        "\n",
        "# ライブラリ読み出し\n",
        "library(tidyverse)\n",
        "\n",
        "# 2010年、世帯の種類 hh.type=all のデ一タ\n",
        "childcare_hh_all_2010 <- childcare %>%\n",
        "  subset(subset = (year == 2010) & (hh.type == \"all\"))\n",
        "\n",
        "cap_rate_2010 <- childcare_hh_all_2010$cap.rate\n",
        "\n",
        "# 標本平均値\n",
        "cap_rate_mean_2010 <- mean(cap_rate_2010)\n",
        "# 0.406"
      ]
    },
    {
      "cell_type": "code",
      "source": [
        "# 1990年、世帯の種類 hh.type=all のデ一タ\n",
        "childcare_hh_all_1990 <- childcare %>%\n",
        "  subset(subset = (year == 1990) & (hh.type == \"all\"))\n",
        "\n",
        "cap_rate_1990 <- childcare_hh_all_1990$cap.rate\n",
        "\n",
        "# 平均値\n",
        "cap_rate_mean_1990 <- mean(cap_rate_1990)\n",
        "# 0.28"
      ],
      "metadata": {
        "id": "2Ule7IGb16db"
      },
      "execution_count": 2,
      "outputs": []
    },
    {
      "cell_type": "code",
      "source": [
        "# 方1: 差異\n",
        "# 独立標本 t 検定:  t.test(x, y, alternative = \"two.sided\")\n",
        "\n",
        "t.test(cap_rate_2010, cap_rate_1990, alternative = \"two.sided\")"
      ],
      "metadata": {
        "colab": {
          "base_uri": "https://localhost:8080/",
          "height": 212
        },
        "id": "k9BPmnWD1_QJ",
        "outputId": "83f5e3ae-2cdd-4931-a772-392097170ddf"
      },
      "execution_count": 3,
      "outputs": [
        {
          "output_type": "display_data",
          "data": {
            "text/plain": [
              "\n",
              "\tWelch Two Sample t-test\n",
              "\n",
              "data:  cap_rate_2010 and cap_rate_1990\n",
              "t = 5.3863, df = 87.429, p-value = 5.993e-07\n",
              "alternative hypothesis: true difference in means is not equal to 0\n",
              "95 percent confidence interval:\n",
              " 0.07510673 0.16294338\n",
              "sample estimates:\n",
              "mean of x mean of y \n",
              "0.4068228 0.2877978 \n"
            ]
          },
          "metadata": {}
        }
      ]
    },
    {
      "cell_type": "code",
      "source": [
        "# 方2: 差異\n",
        "# 対応あり標本 t 検定 : t.test(x, y, paired = TRUE, alternative = \"two.sided\")\n",
        "# データ構造：独立標本は二つの標本間に関連がないと仮定していますが、\n",
        "# 対応あり標本は二つの標本が関連していると仮定します。\n",
        "\n",
        "t.test(cap_rate_2010, cap_rate_1990, paired = TRUE, alternative = \"two.sided\")"
      ],
      "metadata": {
        "colab": {
          "base_uri": "https://localhost:8080/",
          "height": 212
        },
        "id": "KgTDYGnd2XKn",
        "outputId": "a78f6e8b-4257-44d8-c07e-7707cdefd06a"
      },
      "execution_count": 4,
      "outputs": [
        {
          "output_type": "display_data",
          "data": {
            "text/plain": [
              "\n",
              "\tPaired t-test\n",
              "\n",
              "data:  cap_rate_2010 and cap_rate_1990\n",
              "t = 18.123, df = 46, p-value < 2.2e-16\n",
              "alternative hypothesis: true mean difference is not equal to 0\n",
              "95 percent confidence interval:\n",
              " 0.1058054 0.1322447\n",
              "sample estimates:\n",
              "mean difference \n",
              "      0.1190251 \n"
            ]
          },
          "metadata": {}
        }
      ]
    },
    {
      "cell_type": "code",
      "source": [
        "# 方3: 差異\n",
        "diff <- cap_rate_2010 - cap_rate_1990\n",
        "\n",
        "# diff の平均値は\n",
        "diff_mean <- mean(diff)\n",
        "\n",
        "# (2010年\\mu - 1990年\\mu) の95%信頼区間\n",
        "t.test(diff, mu = 0, alternative = \"two.sided\")\n"
      ],
      "metadata": {
        "colab": {
          "base_uri": "https://localhost:8080/",
          "height": 212
        },
        "id": "Shynwznu2hK9",
        "outputId": "bdf9545a-ade9-4d92-b9c8-b725af87b072"
      },
      "execution_count": 5,
      "outputs": [
        {
          "output_type": "display_data",
          "data": {
            "text/plain": [
              "\n",
              "\tOne Sample t-test\n",
              "\n",
              "data:  diff\n",
              "t = 18.123, df = 46, p-value < 2.2e-16\n",
              "alternative hypothesis: true mean is not equal to 0\n",
              "95 percent confidence interval:\n",
              " 0.1058054 0.1322447\n",
              "sample estimates:\n",
              "mean of x \n",
              "0.1190251 \n"
            ]
          },
          "metadata": {}
        }
      ]
    },
    {
      "cell_type": "code",
      "source": [
        "################################################################\n",
        "# 練習 1.\n",
        "# 平均の差の検定\n",
        "# 帰無仮説 H0：\n",
        "# 2010年と2005年の保育所定員率に差はない?\n",
        "\n",
        "# 練習 2.\n",
        "# 平均の差の検定\n",
        "# 帰無仮説 H0：\n",
        "# 2010年と2005年の母親就業率に差はない?\n",
        "################################################################"
      ],
      "metadata": {
        "id": "0sXyQ-2N2myn"
      },
      "execution_count": 6,
      "outputs": []
    }
  ]
}