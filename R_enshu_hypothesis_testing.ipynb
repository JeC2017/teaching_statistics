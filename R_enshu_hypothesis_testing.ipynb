{
  "nbformat": 4,
  "nbformat_minor": 0,
  "metadata": {
    "colab": {
      "provenance": []
    },
    "kernelspec": {
      "name": "ir",
      "display_name": "R"
    },
    "language_info": {
      "name": "R"
    }
  },
  "cells": [
    {
      "cell_type": "code",
      "execution_count": 1,
      "metadata": {
        "colab": {
          "base_uri": "https://localhost:8080/"
        },
        "id": "23XsmQbAkcX_",
        "outputId": "64fe18cf-3daa-4888-bd36-167028dae249"
      },
      "outputs": [
        {
          "output_type": "stream",
          "name": "stdout",
          "text": [
            "'data.frame':\t705 obs. of  11 variables:\n",
            " $ pref        : chr  \"北海道\" \"青森県\" \"岩手県\" \"宮城県\" ...\n",
            " $ year        : int  1990 1990 1990 1990 1990 1990 1990 1990 1990 1990 ...\n",
            " $ emp.rate    : num  0.27 0.451 0.527 0.421 0.547 ...\n",
            " $ cap.rate    : num  0.188 0.363 0.262 0.133 0.268 ...\n",
            " $ age         : num  31.6 31.4 31.5 31.5 31.5 ...\n",
            " $ age.hus     : num  34.2 34.2 34.3 34.2 34.2 ...\n",
            " $ emp.rate.hus: num  0.99 0.982 0.99 0.99 0.992 ...\n",
            " $ urate       : num  0.0362 0.0449 0.0263 0.0273 0.0272 ...\n",
            " $ nuc.rate    : num  0.824 0.565 0.497 0.579 0.414 ...\n",
            " $ numhh       : int  250086 68647 63126 107307 51772 57159 101753 134651 92983 89503 ...\n",
            " $ hh.type     : chr  \"all\" \"all\" \"all\" \"all\" ...\n"
          ]
        }
      ],
      "source": [
        "# R環境内の存在オブジェクトを全て削除\n",
        "rm(list = ls())\n",
        "\n",
        "# CSVファイルのデータをURLから読み込み\n",
        "url <- \"https://raw.githubusercontent.com/JeC2017/public_data/main/childcare.csv\"\n",
        "childcare <- read.csv(url, header=TRUE)\n",
        "\n",
        "# データ構造の確認\n",
        "str(childcare)"
      ]
    },
    {
      "cell_type": "code",
      "source": [
        "# tidyverseライブラリの読み込み\n",
        "library(tidyverse)\n",
        "\n",
        "# 2010年、世帯の種類 hh.type = \"all\" のデータの抽出\n",
        "childcare_hh_all_2010 <- childcare %>%\n",
        "  subset(subset = (year == 2010) & (hh.type == \"all\"))\n",
        "\n",
        "# cap.rateの抽出\n",
        "cap_rate_2010 <- childcare_hh_all_2010$cap.rate\n",
        "\n",
        "# 標本平均値の計算\n",
        "cap_rate_mean_2010 <- mean(cap_rate_2010)\n",
        "# 結果: 0.406\n",
        "\n",
        "# 標本標準偏差の計算\n",
        "cap_rate_sd_2010 <- sd(cap_rate_2010)\n",
        "# 結果: 0.118"
      ],
      "metadata": {
        "colab": {
          "base_uri": "https://localhost:8080/"
        },
        "id": "dE-bCg3kk1s6",
        "outputId": "db996fb9-eb88-48b1-b9a7-20953b3e9bb7"
      },
      "execution_count": 2,
      "outputs": [
        {
          "output_type": "stream",
          "name": "stderr",
          "text": [
            "── \u001b[1mAttaching core tidyverse packages\u001b[22m ──────────────────────── tidyverse 2.0.0 ──\n",
            "\u001b[32m✔\u001b[39m \u001b[34mdplyr    \u001b[39m 1.1.4     \u001b[32m✔\u001b[39m \u001b[34mreadr    \u001b[39m 2.1.5\n",
            "\u001b[32m✔\u001b[39m \u001b[34mforcats  \u001b[39m 1.0.0     \u001b[32m✔\u001b[39m \u001b[34mstringr  \u001b[39m 1.5.1\n",
            "\u001b[32m✔\u001b[39m \u001b[34mggplot2  \u001b[39m 3.5.1     \u001b[32m✔\u001b[39m \u001b[34mtibble   \u001b[39m 3.2.1\n",
            "\u001b[32m✔\u001b[39m \u001b[34mlubridate\u001b[39m 1.9.4     \u001b[32m✔\u001b[39m \u001b[34mtidyr    \u001b[39m 1.3.1\n",
            "\u001b[32m✔\u001b[39m \u001b[34mpurrr    \u001b[39m 1.0.2     \n",
            "── \u001b[1mConflicts\u001b[22m ────────────────────────────────────────── tidyverse_conflicts() ──\n",
            "\u001b[31m✖\u001b[39m \u001b[34mdplyr\u001b[39m::\u001b[32mfilter()\u001b[39m masks \u001b[34mstats\u001b[39m::filter()\n",
            "\u001b[31m✖\u001b[39m \u001b[34mdplyr\u001b[39m::\u001b[32mlag()\u001b[39m    masks \u001b[34mstats\u001b[39m::lag()\n",
            "\u001b[36mℹ\u001b[39m Use the conflicted package (\u001b[3m\u001b[34m<http://conflicted.r-lib.org/>\u001b[39m\u001b[23m) to force all conflicts to become errors\n"
          ]
        }
      ]
    },
    {
      "cell_type": "code",
      "source": [
        "# 方法一: 検定統計量を自分で計算\n",
        "# H_0: μ = 0.38\n",
        "z_test <- abs( (cap_rate_mean_2010 - 0.38) / (cap_rate_sd_2010/sqrt(47) ) )\n",
        "z_test"
      ],
      "metadata": {
        "colab": {
          "base_uri": "https://localhost:8080/",
          "height": 34
        },
        "id": "Ug8QF0SZlVBy",
        "outputId": "4ef5f049-6e21-4243-e7b0-04e3c64b638a"
      },
      "execution_count": 4,
      "outputs": [
        {
          "output_type": "display_data",
          "data": {
            "text/html": [
              "1.54866466597307"
            ],
            "text/markdown": "1.54866466597307",
            "text/latex": "1.54866466597307",
            "text/plain": [
              "[1] 1.548665"
            ]
          },
          "metadata": {}
        }
      ]
    },
    {
      "cell_type": "code",
      "source": [
        "# 方法二: t.test関数を使用した検定\n",
        "# H_0: μ = 0.38\n",
        "t.test(cap_rate_2010, mu = 0.38, alternative = \"two.sided\")\n",
        "\n",
        "# p値の出力と検定結果の判断\n",
        "# p値 < 0.05 の場合、H_0を棄却する。"
      ],
      "metadata": {
        "colab": {
          "base_uri": "https://localhost:8080/",
          "height": 212
        },
        "id": "SmwXeslJlof2",
        "outputId": "ccc97c6a-1553-4861-fb8e-59314d84db24"
      },
      "execution_count": 6,
      "outputs": [
        {
          "output_type": "display_data",
          "data": {
            "text/plain": [
              "\n",
              "\tOne Sample t-test\n",
              "\n",
              "data:  cap_rate_2010\n",
              "t = 1.5487, df = 46, p-value = 0.1283\n",
              "alternative hypothesis: true mean is not equal to 0.38\n",
              "95 percent confidence interval:\n",
              " 0.3719595 0.4416861\n",
              "sample estimates:\n",
              "mean of x \n",
              "0.4068228 \n"
            ]
          },
          "metadata": {}
        }
      ]
    },
    {
      "cell_type": "markdown",
      "source": [
        "# **演習問題 - 広告効果の推定に関する研究**\n",
        "\n",
        "広告では、基本的な転換率は小さい（通常は1%以下で、しばしば0.1%に近い）。サンプルが100万人を超える場合でも、広告の処置効果 (treatment effect) の検出は困難です。観測可能変数は露出 (exposure) と強く相関していますが、転換 (コンバージョン conversion) との相関は弱いです。最も重要なのは、観測可能変数、露出、および転換と相関する観測不可能な変数が存在することです。\n",
        "\n",
        "このデータは、《*Marketing Science*》から提供されたFacebook企業が実施したRCT（無作為化比較試験）のシミュレーションデータを用いて、広告効果を推定するもので、サンプル数は200万人（ユーザー）です。以下は、テスト群とコントロール群に均等に分かれた200万人のユーザーで広告研究に関するデ一タをシミュレートします。\n",
        "\n",
        "**引用元**\n",
        "\n",
        "Gordon, B. R., Zettelmeyer, F., Bhargava, N., and Chapsky, D. (2019), \"A Comparison of Approaches to Advertising Measurement: Evidence from Big Field Experiments at Facebook,\" ***Marketing Science***.\n",
        "\n",
        "**データ**\n",
        "\n",
        "当シミュレーションデータにおける典型的な広告キャンペーンまたは研究はユーザーレベルで定義され、各行がランダムに処置群または対照群に割り当てられたユーザーです。\n",
        "\n",
        "**変数**\n",
        "\n",
        "* `UserID`: ユニークなユーザーID（シミュレーションデータでは不要）\n",
        "* `is_test`: ユーザーが処置群の場合は1、対照群の場合は0（ランダム）\n",
        "* `exposed`: ユーザーが広告に露出した場合は1、露出していない場合は0（内生的）\n",
        "* `converted`: ユーザーが転換した場合は1、しなかった場合は0（結果）\n",
        "* `x1, x2, ...`: 観測可能変数、時間やキャンペーンによって索引が付けられることがあります\n",
        "* `z`: 観測不可能変数、通常のデータセットには含まれていませんが、論文著者はこれをシミュレートします\n",
        "\n",
        "\n",
        "**演習**\n",
        "\n",
        "FB_data_2M.csv といったCSVデータファイル ( https://dl.dropboxusercontent.com/scl/fi/gb8vwostwrf0uhf6kuymp/FB_data_2M.csv?rlkey=b5qwab2ew2dceou8v2pfp6e6s&dl=1 ) をGoogle Colabに読み込む。\n",
        "\n",
        "+ 対照群の母集団コンバージョン率が 0 と有意に異なるかどうかを統計的検定してください。\n",
        "+ 処置群の母集団コンバージョン率が 0 と有意に異なるかどうかを統計的検定してください。"
      ],
      "metadata": {
        "id": "iy1ej1yNmRDy"
      }
    },
    {
      "cell_type": "code",
      "source": [],
      "metadata": {
        "id": "5si04vg2qxr3"
      },
      "execution_count": null,
      "outputs": []
    }
  ]
}